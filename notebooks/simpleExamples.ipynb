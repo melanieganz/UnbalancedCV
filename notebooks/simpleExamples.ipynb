{
 "cells": [
  {
   "cell_type": "markdown",
   "id": "467f7d57",
   "metadata": {},
   "source": [
    "# Simple Examples\n",
    "Here we provide some simple examples to examplify the difference between the different approaches."
   ]
  },
  {
   "cell_type": "code",
   "execution_count": 6,
   "id": "43557089",
   "metadata": {},
   "outputs": [
    {
     "name": "stdout",
     "output_type": "stream",
     "text": [
      "Requirement already satisfied: numpy in c:\\users\\spn486\\anaconda3\\envs\\unbalancedcv\\lib\\site-packages (2.2.6)\n",
      "Requirement already satisfied: matplotlib in c:\\users\\spn486\\anaconda3\\envs\\unbalancedcv\\lib\\site-packages (3.10.3)\n",
      "Requirement already satisfied: scikit-learn in c:\\users\\spn486\\anaconda3\\envs\\unbalancedcv\\lib\\site-packages (1.7.0)\n",
      "Requirement already satisfied: contourpy>=1.0.1 in c:\\users\\spn486\\anaconda3\\envs\\unbalancedcv\\lib\\site-packages (from matplotlib) (1.3.2)\n",
      "Requirement already satisfied: cycler>=0.10 in c:\\users\\spn486\\anaconda3\\envs\\unbalancedcv\\lib\\site-packages (from matplotlib) (0.12.1)\n",
      "Requirement already satisfied: fonttools>=4.22.0 in c:\\users\\spn486\\anaconda3\\envs\\unbalancedcv\\lib\\site-packages (from matplotlib) (4.58.5)\n",
      "Requirement already satisfied: kiwisolver>=1.3.1 in c:\\users\\spn486\\anaconda3\\envs\\unbalancedcv\\lib\\site-packages (from matplotlib) (1.4.8)\n",
      "Requirement already satisfied: packaging>=20.0 in c:\\users\\spn486\\anaconda3\\envs\\unbalancedcv\\lib\\site-packages (from matplotlib) (25.0)\n",
      "Requirement already satisfied: pillow>=8 in c:\\users\\spn486\\anaconda3\\envs\\unbalancedcv\\lib\\site-packages (from matplotlib) (11.3.0)\n",
      "Requirement already satisfied: pyparsing>=2.3.1 in c:\\users\\spn486\\anaconda3\\envs\\unbalancedcv\\lib\\site-packages (from matplotlib) (3.2.3)\n",
      "Requirement already satisfied: python-dateutil>=2.7 in c:\\users\\spn486\\anaconda3\\envs\\unbalancedcv\\lib\\site-packages (from matplotlib) (2.9.0.post0)\n",
      "Requirement already satisfied: scipy>=1.8.0 in c:\\users\\spn486\\anaconda3\\envs\\unbalancedcv\\lib\\site-packages (from scikit-learn) (1.15.2)\n",
      "Requirement already satisfied: joblib>=1.2.0 in c:\\users\\spn486\\anaconda3\\envs\\unbalancedcv\\lib\\site-packages (from scikit-learn) (1.5.1)\n",
      "Requirement already satisfied: threadpoolctl>=3.1.0 in c:\\users\\spn486\\anaconda3\\envs\\unbalancedcv\\lib\\site-packages (from scikit-learn) (3.6.0)\n",
      "Requirement already satisfied: six>=1.5 in c:\\users\\spn486\\anaconda3\\envs\\unbalancedcv\\lib\\site-packages (from python-dateutil>=2.7->matplotlib) (1.17.0)\n"
     ]
    }
   ],
   "source": [
    "!pip install numpy matplotlib scikit-learn"
   ]
  },
  {
   "cell_type": "code",
   "execution_count": null,
   "id": "d259b31e",
   "metadata": {},
   "outputs": [
    {
     "name": "stdout",
     "output_type": "stream",
     "text": [
      "AUC: 0.56\n"
     ]
    },
    {
     "data": {
      "image/png": "[encoded data removed]",
      "text/plain": [
       "<Figure size 640x480 with 1 Axes>"
      ]
     },
     "metadata": {},
     "output_type": "display_data"
    }
   ],
   "source": [
    "import numpy as np\n",
    "import matplotlib.pyplot as plt\n",
    "from sklearn.metrics import precision_recall_curve, auc,roc_auc_score, PrecisionRecallDisplay\n",
    "\n",
    "\n",
    "# Example 1: Simple binary classification\n",
    "#y_true = np.array([1, 0, 0, 0, 0, 1, 1, 1, 1, 0])\n",
    "#y_scores = np.array([0.3, 0.3, 0.3, 0.3, 0.3, 0.7, 0.7, 0.7, 0.7, 0.7])\n",
    "\n",
    "# Example 2: Simple binary classification\n",
    "y_true = np.array([1, 0, 0, 0, 0, 1, 1, 1, 1, 0])\n",
    "y_scores = np.array([0.1, 0.2, 0.3, 0.4, 0.45, 0.55, 0.6, 0.7, 0.8, 0.9])\n",
    "\n",
    "# Example 3: Simple binary classification\n",
    "#y_true = np.array([0, 1, 0, 0, 0, 1, 1, 1, 0, 1])\n",
    "#y_scores = np.array([0.1, 0.2, 0.3, 0.4, 0.45, 0.55, 0.6, 0.7, 0.8, 0.9])\n",
    "\n",
    "# Example 4: Simple binary classification\n",
    "# y_true = np.array([0, 0, 1, 0, 0, 1, 1, 0, 1, 1])\n",
    "# y_scores = np.array([0.1, 0.2, 0.3, 0.4, 0.45, 0.55, 0.6, 0.7, 0.8, 0.9])\n",
    "\n",
    "# Example 5: Simple binary classification\n",
    "#y_true = np.array([ 1, 0, 0, 0, 1, 1, 1, 0])\n",
    "#y_scores = np.array([0.1, 0.2, 0.3, 0.4, 0.6, 0.7, 0.8, 0.9])\n",
    "\n",
    "\n",
    "# Computer the receiver-operating curve\n",
    "\n",
    "\n",
    "# Compute ROC-AUC\n",
    "roc_auc_score = sklearn.metrics.roc_auc_score(y_true, y_scores)\n",
    "print(f\"ROC-AUC: {auc_pr_score:.2f}\")\n",
    "\n",
    "# Compute precision-recall curve\n",
    "precision, recall, thresholds = precision_recall_curve(y_true, y_scores)\n",
    "\n",
    "# Compute AUC-PR\n",
    "auc_pr_score = auc(recall, precision)\n",
    "print(f\"AUC-PR: {auc_pr_score:.2f}\")\n",
    "\n",
    "# Plot precision-recall curve\n",
    "disp = PrecisionRecallDisplay(precision=precision, recall=recall)\n",
    "disp.plot()\n",
    "plt.title(\"Precision-Recall Curve\")\n",
    "plt.show()"
   ]
  }
 ],
 "metadata": {
  "kernelspec": {
   "display_name": "Python 3",
   "language": "python",
   "name": "python3"
  },
  "language_info": {
   "codemirror_mode": {
    "name": "ipython",
    "version": 3
   },
   "file_extension": ".py",
   "mimetype": "text/x-python",
   "name": "python",
   "nbconvert_exporter": "python",
   "pygments_lexer": "ipython3",
   "version": "3.13.5"
  }
 },
 "nbformat": 4,
 "nbformat_minor": 5
}
