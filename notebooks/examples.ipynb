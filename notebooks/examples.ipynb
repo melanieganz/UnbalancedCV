{
 "cells": [
  {
   "cell_type": "markdown",
   "id": "3481ed3d",
   "metadata": {},
   "source": [
    "# Examples\n",
    "Here we provide some examples with real-world data to examplify the difference between the different approaches."
   ]
  },
  {
   "cell_type": "markdown",
   "id": "d450d41d",
   "metadata": {},
   "source": [
    "## Breast Cancer Prediction\n",
    "In this example, we look at the Breast Cancer dataset from scikit-learn. The classification task is to predict whether the subject has cancer or not."
   ]
  },
  {
   "cell_type": "code",
   "execution_count": 2,
   "id": "2b2ee6bd",
   "metadata": {},
   "outputs": [],
   "source": [
    "from pathlib import Path\n",
    "\n",
    "import pandas as pd\n",
    "import matplotlib.pyplot as plt\n",
    "from sklearn.datasets import load_breast_cancer\n",
    "from sklearn.linear_model import LogisticRegression\n",
    "from sklearn.preprocessing import StandardScaler\n",
    "\n",
    "# Import our custom functions\n",
    "from src.metrics import create_metrics\n",
    "from src.cv import run_cv"
   ]
  },
  {
   "cell_type": "code",
   "execution_count": 25,
   "id": "5c71e457",
   "metadata": {},
   "outputs": [
    {
     "data": {
      "image/png": "[encoded data removed]",
      "text/plain": [
       "<Figure size 2007.87x669.291 with 3 Axes>"
      ]
     },
     "metadata": {},
     "output_type": "display_data"
    }
   ],
   "source": [
    "# Functions for plotting\n",
    "def plot_fold_probs(y_true_folds, y_prob_folds, ax):\n",
    "    for fold_idx, (y_true, y_prob) in enumerate(zip(y_true_folds, y_prob_folds)):\n",
    "        y_true = y_true[0]\n",
    "        y_prob = y_prob[0]\n",
    "        # true\n",
    "        ax.scatter(\n",
    "            [fold_idx] * len(y_prob[y_true == 1]),\n",
    "            y_prob[y_true == 1],\n",
    "            c='blue',\n",
    "            alpha=0.4,\n",
    "            label=f'Fold {fold_idx + 1}' if fold_idx == 0 else \"\"\n",
    "        )\n",
    "        # false\n",
    "        ax.scatter(\n",
    "            [fold_idx] * len(y_prob[y_true == 0]),\n",
    "            y_prob[y_true == 0],\n",
    "            c='red',\n",
    "            alpha=0.4,\n",
    "            label=f'Fold {fold_idx + 1}' if fold_idx == 0 else \"\"\n",
    "        )\n",
    "    ax.axhline(0.5, color='gray', linestyle='--', label='Decision boundary')\n",
    "    ax.set_xlabel(\"Fold\")\n",
    "    ax.set_ylabel(\"Predicted probability\")\n",
    "    ax.set_title(\"Predicted probabilities per fold (blue=1, red=0)\")\n",
    "\n",
    "plt.rcParams.update(\n",
    "    {\n",
    "        \"figure.dpi\": 300,\n",
    "        \"font.family\": \"serif\",\n",
    "        \"font.size\": 8,\n",
    "        \"axes.labelsize\": 9,\n",
    "        \"axes.titlesize\": 9,\n",
    "        \"xtick.labelsize\": 7,\n",
    "        \"ytick.labelsize\": 7,\n",
    "        \"legend.fontsize\": 7,\n",
    "        \"lines.linewidth\": 1.2,\n",
    "        \"axes.linewidth\": 0.8,\n",
    "        \"legend.frameon\": False,\n",
    "        \"text.usetex\": True,  # Uncomment for LaTeX\n",
    "        \"axes.spines.top\": True,\n",
    "        \"axes.spines.right\": True,\n",
    "    }\n",
    ")\n",
    "cm = 1 / 2.54\n",
    "fig_width = 17 * cm\n",
    "fig_height = 17 * cm / 3\n",
    "fig, axes = plt.subplots(1,3, figsize=(fig_width, fig_height))"
   ]
  },
  {
   "cell_type": "code",
   "execution_count": 3,
   "id": "072ae8c2",
   "metadata": {},
   "outputs": [
    {
     "name": "stdout",
     "output_type": "stream",
     "text": [
      "Dataset shape: (569, 30)\n",
      "Class distribution:\n",
      "357 positive, 212 negative, ratio: 0.63\n"
     ]
    }
   ],
   "source": [
    "X, y = load_breast_cancer(return_X_y=True)\n",
    "\n",
    "# print dataset shape\n",
    "print(f\"Dataset shape: {X.shape}\")\n",
    "# Check class balance\n",
    "print(f\"Class distribution:\\n{sum(y)} positive, {len(y) - sum(y)} negative, ratio: {sum(y) / len(y):.2f}\")\n",
    "\n",
    "# Scale features\n",
    "scaler = StandardScaler()\n",
    "X_scaled = scaler.fit_transform(X)"
   ]
  },
  {
   "cell_type": "code",
   "execution_count": 4,
   "id": "6fd5de56",
   "metadata": {},
   "outputs": [
    {
     "name": "stdout",
     "output_type": "stream",
     "text": [
      "           average    pooled\n",
      "accuracy  0.978910  0.978910\n",
      "rocauc    0.995428  0.995098\n",
      "prcauc    0.996996  0.996543\n",
      "Difference between average and pooled AUC: 0.00032964443685268296\n"
     ]
    }
   ],
   "source": [
    "model = LogisticRegression()\n",
    "metrics = create_metrics([\"accuracy\", \"rocauc\", \"prcauc\"])\n",
    "results = run_cv(model, X_scaled, y, metrics, n_splits=5, stratified=True, random_state=1)\n",
    "\n",
    "results_df = pd.DataFrame({\"average\": results[\"average\"], \"pooled\": results[\"pooled\"]})\n",
    "print(results_df)\n",
    "print(f\"Difference between average and pooled AUC: {results_df['average']['rocauc'] - results_df['pooled']['rocauc']}\")"
   ]
  },
  {
   "cell_type": "code",
   "execution_count": 26,
   "id": "3f3c9c4a",
   "metadata": {},
   "outputs": [],
   "source": [
    "y_true_folds = results['true']\n",
    "y_prob_folds = results['probs']\n",
    "\n",
    "plot_fold_probs(y_true_folds,y_prob_folds,axes[0])\n"
   ]
  },
  {
   "cell_type": "markdown",
   "id": "0dac9780",
   "metadata": {},
   "source": [
    "## Cognitive Impairment\n",
    "In this example, we look at the Oasis3 data. We have cortical volume for various subjects and sessions that are cognitively normal or impaired. The classification task is to predict whether the subject is cogntiviely normal or not, based on cortical features."
   ]
  },
  {
   "cell_type": "code",
   "execution_count": null,
   "id": "f64acfce",
   "metadata": {},
   "outputs": [],
   "source": [
    "# Load the dataset\n",
    "data_path = Path(\"../data/oasis3_fs_mci.tsv\")\n",
    "df = pd.read_csv(data_path, sep=\"\\t\")\n",
    "\n",
    "print(f\"Dataset shape: {df.shape}\")\n",
    "\n",
    "# drop rows that have empty cells / NAs\n",
    "df = df.dropna(axis=0, how=\"any\")\n",
    "\n",
    "# only keep first occurence of each subject\n",
    "df_baseline = df.drop_duplicates(subset=[\"subject\"], keep=\"first\")\n",
    "print(f\"Shape of baseline data: {df_baseline.shape}\")"
   ]
  },
  {
   "cell_type": "code",
   "execution_count": null,
   "id": "e6446444",
   "metadata": {},
   "outputs": [],
   "source": [
    "# split into X\n",
    "X = df_baseline.drop(columns=[\"subject\", \"session\", \"age\", \"cognitiveyly_normal\"])\n",
    "X = X.apply(pd.to_numeric, errors=\"coerce\")\n",
    "X = X.to_numpy()\n",
    "\n",
    "# standardize features\n",
    "scaler = StandardScaler()\n",
    "X_scaled = scaler.fit_transform(X)\n",
    "\n",
    "# and y\n",
    "y = df_baseline[\"cognitiveyly_normal\"].to_numpy()\n",
    "y_binary = (y == True).astype(int)\n",
    "\n",
    "# Check class balance\n",
    "print(f\"Class distribution:\\n{sum(y_binary)} positive, {len(y_binary) - sum(y_binary)} negative, ratio: {sum(y_binary) / len(y_binary):.2f}\")"
   ]
  },
  {
   "cell_type": "code",
   "execution_count": null,
   "id": "e291adee",
   "metadata": {},
   "outputs": [],
   "source": [
    "## Run cross-validation\n",
    "model = LogisticRegression(max_iter=1000000)\n",
    "metrics = create_metrics([\"accuracy\", \"rocauc\", \"prcauc\"])\n",
    "results = run_cv(model, X_scaled, y_binary, metrics, n_splits=5, stratified=True, random_state=1)\n",
    "results_df = pd.DataFrame({\"average\": results[\"average\"], \"pooled\": results[\"pooled\"]})\n",
    "print(results_df)\n",
    "print(f\"Difference between average and pooled AUC: {results_df['average']['rocauc'] - results_df['pooled']['rocauc']}\")"
   ]
  },
  {
   "cell_type": "markdown",
   "id": "99cccc73",
   "metadata": {},
   "source": [
    "## Depression Remission\n",
    "In this example, we look at the NP1 data. The classification task is to predict whether a patient will achieve remission from depression after a certain period of time.\n"
   ]
  },
  {
   "cell_type": "code",
   "execution_count": null,
   "id": "4b57d958",
   "metadata": {},
   "outputs": [],
   "source": [
    "# Load the dataset\n",
    "data_path = Path(\"../data/np1_fs_mdd_episode.csv\")\n",
    "df = pd.read_csv(data_path, sep=\",\")\n",
    "\n",
    "print(f\"Dataset shape: {df.shape}\")\n",
    "\n",
    "# drop rows that have empty cells / NAs\n",
    "df = df.dropna(axis=0, how=\"any\")\n",
    "\n",
    "# only keep first occurence of each subject\n",
    "print(f\"Shape of baseline data: {df.shape}\")\n",
    "\n",
    "# check class balance\n"
   ]
  },
  {
   "cell_type": "code",
   "execution_count": null,
   "id": "7fa997bd",
   "metadata": {},
   "outputs": [],
   "source": [
    "X = df.drop(columns=[\"mdd_episode\", \"diagnosis\"])\n",
    "X = X.to_numpy()\n",
    "\n",
    "# standardize features\n",
    "scaler = StandardScaler()\n",
    "X_scaled = scaler.fit_transform(X)\n",
    "\n",
    "# and y\n",
    "y = df[\"mdd_episode\"].to_numpy()\n",
    "y_binary = (y == \"Recurrent\").astype(int)\n",
    "\n",
    "# Check class balance\n",
    "print(f\"Class distribution:\\n{sum(y_binary)} positive, {len(y_binary) - sum(y_binary)} negative, ratio: {sum(y_binary) / len(y_binary):.2f}\")"
   ]
  },
  {
   "cell_type": "code",
   "execution_count": null,
   "id": "fdfde242",
   "metadata": {},
   "outputs": [],
   "source": [
    "## Run cross-validation\n",
    "model = LogisticRegression(max_iter=1000000)\n",
    "metrics = create_metrics([\"accuracy\", \"rocauc\", \"prcauc\"])\n",
    "results = run_cv(model, X_scaled, y_binary, metrics, n_splits=5, stratified=True, random_state=1)\n",
    "results_df = pd.DataFrame(results)\n",
    "print(results_df)\n",
    "print(f\"Difference between average and pooled AUC: {results_df['average']['rocauc'] - results_df['pooled']['rocauc']}\")"
   ]
  }
 ],
 "metadata": {
  "kernelspec": {
   "display_name": "unbalancedcv",
   "language": "python",
   "name": "python3"
  },
  "language_info": {
   "codemirror_mode": {
    "name": "ipython",
    "version": 3
   },
   "file_extension": ".py",
   "mimetype": "text/x-python",
   "name": "python",
   "nbconvert_exporter": "python",
   "pygments_lexer": "ipython3",
   "version": "3.10.18"
  }
 },
 "nbformat": 4,
 "nbformat_minor": 5
}
