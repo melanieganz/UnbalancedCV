{
 "cells": [
  {
   "cell_type": "markdown",
   "id": "b7e5a916",
   "metadata": {},
   "source": [
    "We investigate two approaches for computing ROC-AUC in cross-validation settings: (1) fold-averaged AUC, where AUC is computed per fold and then averaged, and (2) pooled AUC, where predictions from all folds are concatenated before AUC computation. Through simulation studies on imbalanced binary classification tasks, we demonstrate that these approaches yield systematically different estimates with implications for model evaluation and selection. Our analysis follows three steps: (1) demonstrate the difference on single datasets, (2) establish statistical significance through 1,000 Monte Carlo replications, and (3) compare both strategies against true generalization performance.\n",
    "\n",
    "We compare the following startegies to cmpute the generalization AUC in a cross-validation setting:\n",
    "\n",
    "1. **Fold-averaged AUC**: $\\text{AUC}_{\\text{avg}} = \\frac{1}{K} \\sum_{k=1}^{K} \\text{AUC}(\\mathbf{y}^{(k)}, \\hat{\\mathbf{p}}^{(k)})$\n",
    "2. **Pooled AUC**: $\\text{AUC}_{\\text{pooled}} = \\text{AUC}(\\mathbf{y}_{\\text{all}}, \\hat{\\mathbf{p}}_{\\text{all}})$\n",
    "\n",
    "where $\\mathbf{y}^{(k)}$ and $\\hat{\\mathbf{p}}^{(k)}$ are the true labels and predicted probabilities for fold $k$, and the subscript \"all\" denotes concatenation across all test folds.\n",
    "\n",
    "## Setup"
   ]
  },
  {
   "cell_type": "code",
   "execution_count": 1,
   "id": "09e9d6a8",
   "metadata": {},
   "outputs": [],
   "source": [
    "import pandas as pd\n",
    "import matplotlib.pyplot as plt\n",
    "from sklearn.linear_model import LogisticRegression\n",
    "\n",
    "from src.cv import run_cv\n",
    "from src import simulations\n",
    "from src.metrics import create_metrics"
   ]
  },
  {
   "cell_type": "markdown",
   "id": "c89ce1ff",
   "metadata": {},
   "source": [
    "## Experimental Setup\n",
    "We simulate binary classification tasks using a mixture of two univariate Gaussians:\n",
    "\n",
    "- **Class 0** (negative): $X | Y=0 \\sim \\mathcal{N}(\\mu_0, \\sigma_0^2)$  \n",
    "- **Class 1** (positive): $X | Y=1 \\sim \\mathcal{N}(\\mu_1, \\sigma_1^2)$\n",
    "\n",
    "The class imbalance is controlled via the positive class ratio $\\pi = P(Y=1)$."
   ]
  },
  {
   "cell_type": "code",
   "execution_count": 2,
   "id": "50149f4c",
   "metadata": {},
   "outputs": [
    {
     "data": {
      "image/png": "[encoded data removed]",
      "text/plain": [
       "<Figure size 640x480 with 1 Axes>"
      ]
     },
     "metadata": {},
     "output_type": "display_data"
    }
   ],
   "source": [
    "# set up the dataset parameters\n",
    "n_samples = 500\n",
    "pos_ratio = 0.1\n",
    "mu0 = -1\n",
    "sigma0 = 1\n",
    "mu1 = 1\n",
    "sigma1 = 1\n",
    "\n",
    "# simulate\n",
    "X, y = simulations.simulate_dataset(n_samples, pos_ratio, mu0, sigma0, mu1, sigma1, seed=1)\n",
    "\n",
    "# plot the dataset\n",
    "fig, ax = plt.subplots()\n",
    "ax.set_title(f\"Simulated dataset (pos_ratio={pos_ratio}, n_samples={n_samples})\")\n",
    "ax.set_xlabel(\"Feature value\")\n",
    "ax.set_ylabel(\"Count\")\n",
    "ax.hist(X[y == 0], bins=30, alpha=0.5, label=\"Class 0\", color=\"blue\")\n",
    "ax.hist(X[y == 1], bins=30, alpha=0.5, label=\"Class 1\", color=\"orange\")\n",
    "ax.legend()\n",
    "plt.show()"
   ]
  },
  {
   "cell_type": "markdown",
   "id": "9430a75e",
   "metadata": {},
   "source": [
    "We use 5-fold stratified cross-validation to ensure each fold maintains the original class distribution. For each fold, we:\n",
    "\n",
    "1. Train a logistic regression classifier on the training partition\n",
    "2. Generate predictions and probability estimates on the test partition\n",
    "3. Aggregate the predictions\n",
    "4. Compute fold-specific metrics (accuracy, AUC)"
   ]
  },
  {
   "cell_type": "code",
   "execution_count": 3,
   "id": "1ea4f2b7",
   "metadata": {},
   "outputs": [],
   "source": [
    "X, y = simulations.simulate_dataset(n_samples, pos_ratio, mu0, sigma0, mu1, sigma1, seed=1)\n",
    "\n",
    "model = LogisticRegression()\n",
    "metrics = create_metrics([\"accuracy\", \"rocauc\", \"prcauc\"])\n",
    "results = run_cv(model, X, y, metrics, n_splits=5, stratified=True, random_state=1)"
   ]
  },
  {
   "cell_type": "markdown",
   "id": "f923bd74",
   "metadata": {},
   "source": [
    "Further, can simulate a \"true\" test set to test the test set to compute the generalization error."
   ]
  },
  {
   "cell_type": "code",
   "execution_count": 4,
   "id": "92bee195",
   "metadata": {},
   "outputs": [],
   "source": [
    "X_gen, y_gen = simulations.simulate_dataset(1000, pos_ratio, mu0, sigma0, mu1, sigma1, seed=100)\n",
    "\n",
    "# fit the model on the full training dataset\n",
    "model.fit(X, y)\n",
    "\n",
    "# Predict and score on fresh (\"generalization\") data\n",
    "y_pred_gen = model.predict(X_gen)\n",
    "y_proba_gen = model.predict_proba(X_gen)[:, 1]\n",
    "\n",
    "# add generalization to the results\n",
    "results[\"generalized\"] = {}\n",
    "for name, function in metrics.items():\n",
    "    score = function(y_gen, y_pred_gen, y_proba_gen)\n",
    "    results[\"generalized\"][name] = score"
   ]
  },
  {
   "cell_type": "markdown",
   "id": "13277fd0",
   "metadata": {},
   "source": [
    "Let's look at the results:"
   ]
  },
  {
   "cell_type": "code",
   "execution_count": 5,
   "id": "e628ed63",
   "metadata": {},
   "outputs": [
    {
     "name": "stdout",
     "output_type": "stream",
     "text": [
      "           average    pooled  generalized\n",
      "accuracy  0.938000  0.938000     0.944000\n",
      "rocauc    0.940637  0.934793     0.931445\n",
      "prcauc    0.732418  0.684738     0.701778\n"
     ]
    }
   ],
   "source": [
    "results_df = pd.DataFrame(results)\n",
    "print(results_df)"
   ]
  },
  {
   "cell_type": "markdown",
   "id": "b681f669",
   "metadata": {},
   "source": [
    "The theoretical difference between averaged and pooled is computed as follows:\n",
    "\n",
    "$$ AUC_{avg} - AUC_{pooled} = \\frac{(K-1)}{(N_p \\cdot N_n)}$$\n",
    "\n",
    "where $N_p$ and $N_n$ are the number of positive and negative samples, respectively, and $K$ is the number of folds."
   ]
  },
  {
   "cell_type": "code",
   "execution_count": 6,
   "id": "7d490ced",
   "metadata": {},
   "outputs": [
    {
     "name": "stdout",
     "output_type": "stream",
     "text": [
      "Theoretical difference: 0.000181\n",
      "Experimental difference: 0.005844\n"
     ]
    }
   ],
   "source": [
    "Np = sum(y == 1)\n",
    "Nn = sum(y == 0)\n",
    "K = 5\n",
    "theoretical_diff = (K - 1) / (Np * Nn)\n",
    "experimental_diff = results_df.loc[\"rocauc\", \"average\"] - results_df.loc[\"rocauc\", \"pooled\"]\n",
    "print(f\"Theoretical difference: {theoretical_diff:.6f}\")\n",
    "print(f\"Experimental difference: {experimental_diff:.6f}\")"
   ]
  },
  {
   "cell_type": "markdown",
   "id": "5e7a4904",
   "metadata": {},
   "source": [
    "## Statistical Analysis\n",
    "To get an idea about the statistics of this experiment, we repeat this experiment using a Monte Carlo simulation where run 1,000 independent replications. Each replication generates a new dataset with identical parameters but different random seeds."
   ]
  },
  {
   "cell_type": "code",
   "execution_count": null,
   "id": "f0eb9a60",
   "metadata": {},
   "outputs": [
    {
     "data": {
      "image/png": "[encoded data removed]",
      "text/plain": [
       "<Figure size 1000x600 with 2 Axes>"
      ]
     },
     "metadata": {},
     "output_type": "display_data"
    },
    {
     "name": "stdout",
     "output_type": "stream",
     "text": [
      "         accuracy    rocauc    prcauc\n",
      "type                                 \n",
      "average   0.92921  0.920799  0.689725\n",
      "pooled    0.92921  0.917706  0.660379\n"
     ]
    }
   ],
   "source": [
    "results = []\n",
    "diff_aucs = []\n",
    "for seed in range(1, 1001):\n",
    "    # simulate new set of data\n",
    "    X, y = simulations.simulate_dataset(n_samples, pos_ratio, mu0, sigma0, mu1, sigma1, seed=seed)\n",
    "\n",
    "    # setup model\n",
    "    model = LogisticRegression()\n",
    "    metrics = create_metrics([\"accuracy\", \"rocauc\", \"prcauc\"])\n",
    "\n",
    "    # run cv\n",
    "    result = run_cv(model, X, y, metrics, n_splits=5, stratified=True, random_state=1)\n",
    "\n",
    "    # Flatten the nested dictionary structure\n",
    "    for key, metrics in result.items():\n",
    "        flattened_result = {\"type\": key, **metrics}\n",
    "        results.append(flattened_result)\n",
    "\n",
    "    # compute the experimental difference\n",
    "    df_result = pd.DataFrame(result)\n",
    "    diff_auc = df_result.loc[\"rocauc\", \"average\"] - df_result.loc[\"rocauc\", \"pooled\"]\n",
    "    diff_aucs.append(diff_auc)\n",
    "\n",
    "# Convert the flattened results into a DataFrame\n",
    "results_df = pd.DataFrame(results)\n",
    "\n",
    "# Visualization\n",
    "results_df.boxplot(column=[\"rocauc\", \"prcauc\"], by=\"type\", figsize=(10, 6))\n",
    "plt.ylabel(\"Values\")\n",
    "plt.show()\n",
    "\n",
    "mean_results = results_df.groupby(\"type\")[[\"accuracy\", \"rocauc\", \"prcauc\"]].mean()\n",
    "print(mean_results)\n",
    "\n",
    "# plot the distribution of differences in AUC\n",
    "plt.hist(diff_aucs, bins=30, alpha=0.7, color=\"green\")\n",
    "plt.title(\"Distribution of differences between average and pooled AUC\")\n",
    "plt.xlabel(\"Difference (average AUC - pooled AUC)\")\n",
    "plt.ylabel(\"Frequency\")\n"
   ]
  },
  {
   "cell_type": "markdown",
   "id": "185fa30c",
   "metadata": {},
   "source": [
    "Since we repeated this expiremnt a couple of times, we can run t-test to see whether there is a stistical difference between the pooled and average strategy to estimate the generalization error."
   ]
  },
  {
   "cell_type": "code",
   "execution_count": 8,
   "id": "5d6df051",
   "metadata": {},
   "outputs": [
    {
     "name": "stdout",
     "output_type": "stream",
     "text": [
      "                            OLS Regression Results                            \n",
      "==============================================================================\n",
      "Dep. Variable:                 rocauc   R-squared:                       0.006\n",
      "Model:                            OLS   Adj. R-squared:                  0.005\n",
      "Method:                 Least Squares   F-statistic:                     11.58\n",
      "Date:                Wed, 01 Oct 2025   Prob (F-statistic):           0.000680\n",
      "Time:                        15:54:25   Log-Likelihood:                 4954.8\n",
      "No. Observations:                2000   AIC:                            -9906.\n",
      "Df Residuals:                    1998   BIC:                            -9894.\n",
      "Df Model:                           1                                         \n",
      "Covariance Type:            nonrobust                                         \n",
      "=====================================================================================\n",
      "                        coef    std err          t      P>|t|      [0.025      0.975]\n",
      "-------------------------------------------------------------------------------------\n",
      "Intercept             0.9208      0.001   1432.509      0.000       0.920       0.922\n",
      "C(type)[T.pooled]    -0.0031      0.001     -3.403      0.001      -0.005      -0.001\n",
      "==============================================================================\n",
      "Omnibus:                       42.618   Durbin-Watson:                   0.997\n",
      "Prob(Omnibus):                  0.000   Jarque-Bera (JB):               44.819\n",
      "Skew:                          -0.362   Prob(JB):                     1.85e-10\n",
      "Kurtosis:                       3.117   Cond. No.                         2.62\n",
      "==============================================================================\n",
      "\n",
      "Notes:\n",
      "[1] Standard Errors assume that the covariance matrix of the errors is correctly specified.\n"
     ]
    }
   ],
   "source": [
    "import statsmodels.api as sm\n",
    "from statsmodels.formula.api import ols\n",
    "\n",
    "# Perform a t-test to compare AUC between pooled and average\n",
    "# Filter the data for the two types\n",
    "pooled_auc = results_df[results_df[\"type\"] == \"pooled\"][\"rocauc\"]\n",
    "average_auc = results_df[results_df[\"type\"] == \"average\"][\"rocauc\"]\n",
    "\n",
    "# Combine the data into a single DataFrame for analysis\n",
    "comparison_df = results_df[results_df[\"type\"].isin([\"pooled\", \"average\"])]\n",
    "\n",
    "# Perform an ANOVA test using statsmodels\n",
    "model = ols(\"rocauc ~ C(type)\", data=comparison_df).fit()\n",
    "\n",
    "# Print the ANOVA table\n",
    "print(model.summary())"
   ]
  }
 ],
 "metadata": {
  "kernelspec": {
   "display_name": "unbalancedcv",
   "language": "python",
   "name": "python3"
  },
  "language_info": {
   "codemirror_mode": {
    "name": "ipython",
    "version": 3
   },
   "file_extension": ".py",
   "mimetype": "text/x-python",
   "name": "python",
   "nbconvert_exporter": "python",
   "pygments_lexer": "ipython3",
   "version": "3.10.18"
  }
 },
 "nbformat": 4,
 "nbformat_minor": 5
}
